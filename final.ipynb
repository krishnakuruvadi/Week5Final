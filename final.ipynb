{
 "cells": [
  {
   "cell_type": "markdown",
   "id": "79efe0a5-8542-4f6a-918b-83597f00ad22",
   "metadata": {},
   "source": [
    "# Week 5 Final Peer-Graded Assignment\n",
    "\n",
    "Student, University of Colorado Boulder"
   ]
  },
  {
   "cell_type": "markdown",
   "id": "8835ceb4-92af-4903-96f6-1f0a0b8d01c1",
   "metadata": {},
   "source": [
    "For the week 5 final peer-graded assignment, I want to use Unsupervised Machine Learning methods to identify ETFs that can be pairs-traded."
   ]
  },
  {
   "cell_type": "markdown",
   "id": "fc0c1829-85ae-4552-b938-6ddaa4d2b569",
   "metadata": {},
   "source": [
    "#### Terminology\n",
    "\n",
    "* ETF: An Exchange-Traded Fund (ETF) is a collection of securities that can be bought and sold on a stock exchange similar to a company's stock. ETFs are SEC-registered and they allow investors to pool their money into a fund that invests in a variety of assets.\n",
    "* Pairs-Trading: Pairs trading is a non-directional investment strategy that involves buying and selling two or more securities or derivatives.  It involves matching a long position with a short position in two different securities or derivatives with a high correlation.\n",
    "* Long position: The term long position describes what an investor has purchased when they buy a security or derivative with the expectation that it will rise in value.\n",
    "* Short position: A short, or a short position, is created when a trader sells a security or derivative first with the intention of repurchasing it or covering it later at a lower price. A trader may decide to short a security or derivative when the trader believes that the price of that security is likely to decrease in the near future.\n",
    "* Non-directional trading strategy: In non-directional trading strategies, buying and selling takes place in different contracts of the same security or derivative  or two interrelated security or derivative of the same contract or different contracts simultaneously where the loss in one contract is offset by gain in the other contract."
   ]
  },
  {
   "cell_type": "markdown",
   "id": "4a5663a3-4582-4adf-9dda-102e9b481913",
   "metadata": {},
   "source": [
    "The intent behind finding ETFs that can be pairs-traded is to profit from the relative price movements of the two securities.  The idea is to find patterns in ETFs that make them converge ultimately after a divergence and use this knowledge to pairs-trade while hedging against each security contract.\n",
    "\n",
    "I will use Unsupervised Machine Learning techniques to identify ETFs that can be pair-traded.  There are ~290 ETFs in the US/NASDAQ market and it is time consuming to manually find pairs of ETFs that are highly correlated.  I will be using K-Means clustering to bucket the ETFs into clusters and find pairs in each cluster to find pairs.  Later I will use DBSCAN to do the same.\n"
   ]
  },
  {
   "cell_type": "code",
   "execution_count": 62,
   "id": "67ebc990-270c-4dc1-9444-4bab49b3bf77",
   "metadata": {},
   "outputs": [],
   "source": [
    "import pandas as pd\n",
    "import numpy as np\n",
    "import pandas_datareader as pdr\n",
    "from pandas_datareader.data import DataReader\n",
    "from pandas_datareader.nasdaq_trader import get_nasdaq_symbols\n",
    "from sklearn.preprocessing import StandardScaler\n",
    "\n",
    "from sklearn.cluster import KMeans, DBSCAN\n",
    "\n",
    "from sklearn import metrics\n",
    "from sklearn.decomposition import PCA\n",
    "from kneed import KneeLocator\n",
    "\n",
    "from statsmodels.tsa.stattools import coint\n",
    "import statsmodels.api as sm\n",
    "\n",
    "from sklearn.manifold import TSNE\n",
    "import matplotlib.pyplot as plt\n",
    "import matplotlib.cm as cm\n",
    "import yfinance as yf"
   ]
  },
  {
   "cell_type": "markdown",
   "id": "aa1512f6-4d6c-4cb9-8142-2fd0121c5b58",
   "metadata": {},
   "source": [
    "### Data Extraction\n",
    "\n",
    "I will be looking at the 5 year period starting 2018 and ending 2022 for this exercise.  The data can be reused once downloaded and so I will be using some variables to either fetch the data or load the fetched data."
   ]
  },
  {
   "cell_type": "code",
   "execution_count": 10,
   "id": "265c6481-0c63-41a8-b446-1c49e789a74a",
   "metadata": {},
   "outputs": [],
   "source": [
    "start_dt = \"2018-1-1\"\n",
    "end_dt = \"2022-12-31\"\n",
    "\n",
    "file_name = \"data/raw_data_etf.csv\"\n",
    "file_name_coint = \"data/raw_data_coint_pairs.csv\"\n",
    "\n",
    "load_existing = True\n",
    "load_coint_pairs = False"
   ]
  },
  {
   "cell_type": "markdown",
   "id": "fe3b5f4e-a8dc-4207-a32b-db0d45418ee7",
   "metadata": {},
   "source": [
    "I will be using yfinance - which uses Yahoo! finance APIs, to fetch the required information."
   ]
  },
  {
   "cell_type": "markdown",
   "id": "c63df073-a9a9-4733-9049-d84537a2a574",
   "metadata": {},
   "source": [
    "I will be using only the Adjusted Close values of ETFs to cluster them.  The strategy uses only price movements to infer the correlation so Asjusted Close makes sense to be used"
   ]
  },
  {
   "cell_type": "code",
   "execution_count": 11,
   "id": "3607f18f-3385-446a-9b47-62e8e7f80719",
   "metadata": {},
   "outputs": [],
   "source": [
    "if not load_existing:\n",
    "    yf.pdr_override()\n",
    "    symbols = get_nasdaq_symbols()\n",
    "    symbols = symbols[(symbols[\"ETF\"] == True) &(symbols[\"Market Category\"] == \"G\")]\n",
    "    symbols = list(symbols.index.values)\n",
    "    data = pdr.data.get_data_yahoo(symbols,  start=start_dt, end=end_dt)['Adj Close']  \n",
    "    data.to_csv(file_name)\n",
    "else:\n",
    "    data = pd.read_csv(file_name)"
   ]
  },
  {
   "cell_type": "markdown",
   "id": "5163a4d1-b300-4b1a-8dab-efa91e2603d4",
   "metadata": {},
   "source": [
    "### Exploratory Data Analysis (EDA) - Inspect, Visualize and Clean the data\n"
   ]
  },
  {
   "cell_type": "markdown",
   "id": "84e5c8c3-39be-421d-817a-32c5aa63feac",
   "metadata": {},
   "source": [
    "Let us drop any values that are NA since they will affect our calculations"
   ]
  },
  {
   "cell_type": "code",
   "execution_count": 13,
   "id": "ac58f568-2d89-41de-8d39-5307d6903ba6",
   "metadata": {},
   "outputs": [
    {
     "name": "stdout",
     "output_type": "stream",
     "text": [
      "shape (1259, 290)\n",
      "null values: False\n"
     ]
    }
   ],
   "source": [
    "data.dropna(axis=1, inplace=True)\n",
    "data = data.set_index(\"Date\")\n",
    "print(f'shape {data.shape}')\n",
    "print(f'null values: {data.isnull().values.any()}')"
   ]
  },
  {
   "cell_type": "code",
   "execution_count": 14,
   "id": "538276e2-4972-42ea-958c-cb36b924dd9d",
   "metadata": {},
   "outputs": [
    {
     "data": {
      "text/html": [
       "<div>\n",
       "<style scoped>\n",
       "    .dataframe tbody tr th:only-of-type {\n",
       "        vertical-align: middle;\n",
       "    }\n",
       "\n",
       "    .dataframe tbody tr th {\n",
       "        vertical-align: top;\n",
       "    }\n",
       "\n",
       "    .dataframe thead th {\n",
       "        text-align: right;\n",
       "    }\n",
       "</style>\n",
       "<table border=\"1\" class=\"dataframe\">\n",
       "  <thead>\n",
       "    <tr style=\"text-align: right;\">\n",
       "      <th></th>\n",
       "      <th>AADR</th>\n",
       "      <th>AAXJ</th>\n",
       "      <th>ACWI</th>\n",
       "      <th>ACWX</th>\n",
       "      <th>AGNG</th>\n",
       "      <th>AGZD</th>\n",
       "      <th>AIA</th>\n",
       "      <th>AIRR</th>\n",
       "      <th>ALTY</th>\n",
       "      <th>ANGL</th>\n",
       "      <th>...</th>\n",
       "      <th>VTIP</th>\n",
       "      <th>VTWG</th>\n",
       "      <th>VTWO</th>\n",
       "      <th>VTWV</th>\n",
       "      <th>VWOB</th>\n",
       "      <th>VXUS</th>\n",
       "      <th>VYMI</th>\n",
       "      <th>WOOD</th>\n",
       "      <th>XT</th>\n",
       "      <th>YLDE</th>\n",
       "    </tr>\n",
       "    <tr>\n",
       "      <th>Date</th>\n",
       "      <th></th>\n",
       "      <th></th>\n",
       "      <th></th>\n",
       "      <th></th>\n",
       "      <th></th>\n",
       "      <th></th>\n",
       "      <th></th>\n",
       "      <th></th>\n",
       "      <th></th>\n",
       "      <th></th>\n",
       "      <th></th>\n",
       "      <th></th>\n",
       "      <th></th>\n",
       "      <th></th>\n",
       "      <th></th>\n",
       "      <th></th>\n",
       "      <th></th>\n",
       "      <th></th>\n",
       "      <th></th>\n",
       "      <th></th>\n",
       "      <th></th>\n",
       "    </tr>\n",
       "  </thead>\n",
       "  <tbody>\n",
       "    <tr>\n",
       "      <th>2018-01-02</th>\n",
       "      <td>56.432438</td>\n",
       "      <td>69.671516</td>\n",
       "      <td>64.822205</td>\n",
       "      <td>42.984760</td>\n",
       "      <td>18.754854</td>\n",
       "      <td>18.930815</td>\n",
       "      <td>59.581520</td>\n",
       "      <td>27.197104</td>\n",
       "      <td>9.422737</td>\n",
       "      <td>21.941908</td>\n",
       "      <td>...</td>\n",
       "      <td>40.077320</td>\n",
       "      <td>130.861176</td>\n",
       "      <td>57.009167</td>\n",
       "      <td>98.178925</td>\n",
       "      <td>60.017406</td>\n",
       "      <td>47.918690</td>\n",
       "      <td>52.241989</td>\n",
       "      <td>64.786133</td>\n",
       "      <td>33.830147</td>\n",
       "      <td>25.058256</td>\n",
       "    </tr>\n",
       "    <tr>\n",
       "      <th>2018-01-03</th>\n",
       "      <td>57.022038</td>\n",
       "      <td>70.279839</td>\n",
       "      <td>65.151787</td>\n",
       "      <td>43.257137</td>\n",
       "      <td>19.033163</td>\n",
       "      <td>18.868071</td>\n",
       "      <td>60.208321</td>\n",
       "      <td>27.206991</td>\n",
       "      <td>9.478272</td>\n",
       "      <td>22.007908</td>\n",
       "      <td>...</td>\n",
       "      <td>40.085541</td>\n",
       "      <td>131.801468</td>\n",
       "      <td>57.064587</td>\n",
       "      <td>98.196793</td>\n",
       "      <td>60.077084</td>\n",
       "      <td>48.252728</td>\n",
       "      <td>52.485199</td>\n",
       "      <td>65.046417</td>\n",
       "      <td>34.103355</td>\n",
       "      <td>25.157690</td>\n",
       "    </tr>\n",
       "    <tr>\n",
       "      <th>2018-01-04</th>\n",
       "      <td>57.237278</td>\n",
       "      <td>70.396149</td>\n",
       "      <td>65.606087</td>\n",
       "      <td>43.580593</td>\n",
       "      <td>18.917439</td>\n",
       "      <td>18.915129</td>\n",
       "      <td>60.437862</td>\n",
       "      <td>27.365166</td>\n",
       "      <td>9.484447</td>\n",
       "      <td>22.147247</td>\n",
       "      <td>...</td>\n",
       "      <td>40.093761</td>\n",
       "      <td>132.156555</td>\n",
       "      <td>57.226204</td>\n",
       "      <td>98.420006</td>\n",
       "      <td>60.084572</td>\n",
       "      <td>48.653591</td>\n",
       "      <td>53.021820</td>\n",
       "      <td>64.974609</td>\n",
       "      <td>34.235252</td>\n",
       "      <td>25.157690</td>\n",
       "    </tr>\n",
       "    <tr>\n",
       "      <th>2018-01-05</th>\n",
       "      <td>57.686501</td>\n",
       "      <td>71.040260</td>\n",
       "      <td>66.033661</td>\n",
       "      <td>43.895515</td>\n",
       "      <td>19.079067</td>\n",
       "      <td>18.919043</td>\n",
       "      <td>60.843956</td>\n",
       "      <td>27.177330</td>\n",
       "      <td>9.496172</td>\n",
       "      <td>22.154575</td>\n",
       "      <td>...</td>\n",
       "      <td>40.085541</td>\n",
       "      <td>132.501953</td>\n",
       "      <td>57.401691</td>\n",
       "      <td>98.580711</td>\n",
       "      <td>60.166660</td>\n",
       "      <td>48.979275</td>\n",
       "      <td>53.276627</td>\n",
       "      <td>65.351593</td>\n",
       "      <td>34.517879</td>\n",
       "      <td>25.157690</td>\n",
       "    </tr>\n",
       "    <tr>\n",
       "      <th>2018-01-08</th>\n",
       "      <td>57.686501</td>\n",
       "      <td>71.111824</td>\n",
       "      <td>66.096024</td>\n",
       "      <td>43.895515</td>\n",
       "      <td>19.022640</td>\n",
       "      <td>18.958265</td>\n",
       "      <td>60.861614</td>\n",
       "      <td>27.246531</td>\n",
       "      <td>9.509130</td>\n",
       "      <td>22.183912</td>\n",
       "      <td>...</td>\n",
       "      <td>40.077320</td>\n",
       "      <td>132.434814</td>\n",
       "      <td>57.461727</td>\n",
       "      <td>98.946800</td>\n",
       "      <td>60.024853</td>\n",
       "      <td>48.954227</td>\n",
       "      <td>53.160816</td>\n",
       "      <td>65.683678</td>\n",
       "      <td>34.555557</td>\n",
       "      <td>25.157690</td>\n",
       "    </tr>\n",
       "  </tbody>\n",
       "</table>\n",
       "<p>5 rows × 290 columns</p>\n",
       "</div>"
      ],
      "text/plain": [
       "                 AADR       AAXJ       ACWI       ACWX       AGNG       AGZD  \\\n",
       "Date                                                                           \n",
       "2018-01-02  56.432438  69.671516  64.822205  42.984760  18.754854  18.930815   \n",
       "2018-01-03  57.022038  70.279839  65.151787  43.257137  19.033163  18.868071   \n",
       "2018-01-04  57.237278  70.396149  65.606087  43.580593  18.917439  18.915129   \n",
       "2018-01-05  57.686501  71.040260  66.033661  43.895515  19.079067  18.919043   \n",
       "2018-01-08  57.686501  71.111824  66.096024  43.895515  19.022640  18.958265   \n",
       "\n",
       "                  AIA       AIRR      ALTY       ANGL  ...       VTIP  \\\n",
       "Date                                                   ...              \n",
       "2018-01-02  59.581520  27.197104  9.422737  21.941908  ...  40.077320   \n",
       "2018-01-03  60.208321  27.206991  9.478272  22.007908  ...  40.085541   \n",
       "2018-01-04  60.437862  27.365166  9.484447  22.147247  ...  40.093761   \n",
       "2018-01-05  60.843956  27.177330  9.496172  22.154575  ...  40.085541   \n",
       "2018-01-08  60.861614  27.246531  9.509130  22.183912  ...  40.077320   \n",
       "\n",
       "                  VTWG       VTWO       VTWV       VWOB       VXUS       VYMI  \\\n",
       "Date                                                                            \n",
       "2018-01-02  130.861176  57.009167  98.178925  60.017406  47.918690  52.241989   \n",
       "2018-01-03  131.801468  57.064587  98.196793  60.077084  48.252728  52.485199   \n",
       "2018-01-04  132.156555  57.226204  98.420006  60.084572  48.653591  53.021820   \n",
       "2018-01-05  132.501953  57.401691  98.580711  60.166660  48.979275  53.276627   \n",
       "2018-01-08  132.434814  57.461727  98.946800  60.024853  48.954227  53.160816   \n",
       "\n",
       "                 WOOD         XT       YLDE  \n",
       "Date                                         \n",
       "2018-01-02  64.786133  33.830147  25.058256  \n",
       "2018-01-03  65.046417  34.103355  25.157690  \n",
       "2018-01-04  64.974609  34.235252  25.157690  \n",
       "2018-01-05  65.351593  34.517879  25.157690  \n",
       "2018-01-08  65.683678  34.555557  25.157690  \n",
       "\n",
       "[5 rows x 290 columns]"
      ]
     },
     "execution_count": 14,
     "metadata": {},
     "output_type": "execute_result"
    }
   ],
   "source": [
    "data.head()"
   ]
  },
  {
   "cell_type": "code",
   "execution_count": 64,
   "id": "f553bb2d-3eb3-4ca0-8e95-9cc50ac59738",
   "metadata": {},
   "outputs": [
    {
     "name": "stdout",
     "output_type": "stream",
     "text": [
      "<class 'pandas.core.frame.DataFrame'>\n",
      "Index: 1259 entries, 2018-01-02 to 2022-12-30\n",
      "Columns: 290 entries, AADR to YLDE\n",
      "dtypes: float64(290)\n",
      "memory usage: 2.8+ MB\n"
     ]
    }
   ],
   "source": [
    "data.info()"
   ]
  },
  {
   "cell_type": "markdown",
   "id": "810f53ba-9459-431d-a2e6-521a13784522",
   "metadata": {},
   "source": [
    "Each row corresponds to the Adjusted Close price of different securities on that particular date.  The dates range from 1-JAN-2018 to 31-DEC-2022 and on dates when the markets are not open, we will not have entries.  \n",
    "\n",
    "Each column corresponds to the Adjusted Close price of one security over different dates.  AADR is an ETF and so are AAXJ, ACWI, ACWX etc. Data types are date and float"
   ]
  },
  {
   "cell_type": "markdown",
   "id": "4173bd37-b464-4453-99c7-3eaed8da4305",
   "metadata": {},
   "source": [
    "### Feature Engineering"
   ]
  },
  {
   "cell_type": "markdown",
   "id": "5d709ad3-8022-4ce6-b12e-a00ab50ddaef",
   "metadata": {},
   "source": [
    "The price movement is captured in two ways - one is returns and the other is volatility\n",
    "\n",
    "A return is the change in price of an asset, investment, or project over time, which may be represented in terms of price change or percentage change. Here we are using the percentage change\n",
    "\n",
    "Volatility is how much and how quickly prices move over a given span of time. In the stock market, increased volatility is often a sign of fear and uncertainty among investors."
   ]
  },
  {
   "cell_type": "code",
   "execution_count": 66,
   "id": "cb30bc21-e0bc-4693-aaa9-d3f55144a3bc",
   "metadata": {},
   "outputs": [
    {
     "data": {
      "text/html": [
       "<div>\n",
       "<style scoped>\n",
       "    .dataframe tbody tr th:only-of-type {\n",
       "        vertical-align: middle;\n",
       "    }\n",
       "\n",
       "    .dataframe tbody tr th {\n",
       "        vertical-align: top;\n",
       "    }\n",
       "\n",
       "    .dataframe thead th {\n",
       "        text-align: right;\n",
       "    }\n",
       "</style>\n",
       "<table border=\"1\" class=\"dataframe\">\n",
       "  <thead>\n",
       "    <tr style=\"text-align: right;\">\n",
       "      <th></th>\n",
       "      <th>Returns</th>\n",
       "      <th>Volatility</th>\n",
       "    </tr>\n",
       "  </thead>\n",
       "  <tbody>\n",
       "    <tr>\n",
       "      <th>AADR</th>\n",
       "      <td>-0.005038</td>\n",
       "      <td>0.245159</td>\n",
       "    </tr>\n",
       "    <tr>\n",
       "      <th>AAXJ</th>\n",
       "      <td>0.006999</td>\n",
       "      <td>0.229101</td>\n",
       "    </tr>\n",
       "    <tr>\n",
       "      <th>ACWI</th>\n",
       "      <td>0.071918</td>\n",
       "      <td>0.205415</td>\n",
       "    </tr>\n",
       "    <tr>\n",
       "      <th>ACWX</th>\n",
       "      <td>0.025977</td>\n",
       "      <td>0.202069</td>\n",
       "    </tr>\n",
       "    <tr>\n",
       "      <th>AGNG</th>\n",
       "      <td>0.085991</td>\n",
       "      <td>0.200920</td>\n",
       "    </tr>\n",
       "  </tbody>\n",
       "</table>\n",
       "</div>"
      ],
      "text/plain": [
       "       Returns  Volatility\n",
       "AADR -0.005038    0.245159\n",
       "AAXJ  0.006999    0.229101\n",
       "ACWI  0.071918    0.205415\n",
       "ACWX  0.025977    0.202069\n",
       "AGNG  0.085991    0.200920"
      ]
     },
     "execution_count": 66,
     "metadata": {},
     "output_type": "execute_result"
    }
   ],
   "source": [
    "# create dataframe with returns and volatility information\n",
    "df_returns = pd.DataFrame(data.pct_change().mean()*255, columns=[\"Returns\"])\n",
    "df_returns[\"Volatility\"] = data.pct_change().std()*np.sqrt(255)\n",
    "df_returns.head()"
   ]
  },
  {
   "cell_type": "code",
   "execution_count": 65,
   "id": "396eddd5-ebff-40f4-b627-188f8d7125e5",
   "metadata": {},
   "outputs": [
    {
     "data": {
      "text/plain": [
       "<Axes: ylabel='Frequency'>"
      ]
     },
     "execution_count": 65,
     "metadata": {},
     "output_type": "execute_result"
    },
    {
     "data": {
      "image/png": "[encoded data removed]",
      "text/plain": [
       "<Figure size 640x480 with 1 Axes>"
      ]
     },
     "metadata": {},
     "output_type": "display_data"
    }
   ],
   "source": [
    "df_returns.Returns.plot.hist()"
   ]
  },
  {
   "cell_type": "code",
   "execution_count": 67,
   "id": "1904cb14-1173-4fa0-a3c1-a5763e99ae9b",
   "metadata": {},
   "outputs": [
    {
     "data": {
      "text/plain": [
       "<Axes: ylabel='Frequency'>"
      ]
     },
     "execution_count": 67,
     "metadata": {},
     "output_type": "execute_result"
    },
    {
     "data": {
      "image/png": "[encoded data removed]",
      "text/plain": [
       "<Figure size 640x480 with 1 Axes>"
      ]
     },
     "metadata": {},
     "output_type": "display_data"
    }
   ],
   "source": [
    "df_returns.Volatility.plot.hist()"
   ]
  },
  {
   "cell_type": "markdown",
   "id": "40932799-e464-499a-9230-723648cf6820",
   "metadata": {},
   "source": [
    "I will standardize the data before clustering"
   ]
  },
  {
   "cell_type": "code",
   "execution_count": 16,
   "id": "486d5d03-d3f6-4014-b24c-d3d9c34f4592",
   "metadata": {},
   "outputs": [
    {
     "data": {
      "text/html": [
       "<div>\n",
       "<style scoped>\n",
       "    .dataframe tbody tr th:only-of-type {\n",
       "        vertical-align: middle;\n",
       "    }\n",
       "\n",
       "    .dataframe tbody tr th {\n",
       "        vertical-align: top;\n",
       "    }\n",
       "\n",
       "    .dataframe thead th {\n",
       "        text-align: right;\n",
       "    }\n",
       "</style>\n",
       "<table border=\"1\" class=\"dataframe\">\n",
       "  <thead>\n",
       "    <tr style=\"text-align: right;\">\n",
       "      <th></th>\n",
       "      <th>Returns</th>\n",
       "      <th>Volatility</th>\n",
       "    </tr>\n",
       "  </thead>\n",
       "  <tbody>\n",
       "    <tr>\n",
       "      <th>AADR</th>\n",
       "      <td>-1.004415</td>\n",
       "      <td>0.244185</td>\n",
       "    </tr>\n",
       "    <tr>\n",
       "      <th>AAXJ</th>\n",
       "      <td>-0.814386</td>\n",
       "      <td>0.090517</td>\n",
       "    </tr>\n",
       "    <tr>\n",
       "      <th>ACWI</th>\n",
       "      <td>0.210470</td>\n",
       "      <td>-0.136140</td>\n",
       "    </tr>\n",
       "    <tr>\n",
       "      <th>ACWX</th>\n",
       "      <td>-0.514787</td>\n",
       "      <td>-0.168164</td>\n",
       "    </tr>\n",
       "    <tr>\n",
       "      <th>AGNG</th>\n",
       "      <td>0.432645</td>\n",
       "      <td>-0.179162</td>\n",
       "    </tr>\n",
       "  </tbody>\n",
       "</table>\n",
       "</div>"
      ],
      "text/plain": [
       "       Returns  Volatility\n",
       "AADR -1.004415    0.244185\n",
       "AAXJ -0.814386    0.090517\n",
       "ACWI  0.210470   -0.136140\n",
       "ACWX -0.514787   -0.168164\n",
       "AGNG  0.432645   -0.179162"
      ]
     },
     "execution_count": 16,
     "metadata": {},
     "output_type": "execute_result"
    }
   ],
   "source": [
    "# scale features\n",
    "scaler = StandardScaler()\n",
    "scaler = scaler.fit_transform(df_returns)\n",
    "scaled_data = pd.DataFrame(scaler, columns=df_returns.columns, index=df_returns.index)\n",
    "df_scaled = scaled_data\n",
    "df_scaled.head()"
   ]
  },
  {
   "cell_type": "code",
   "execution_count": 70,
   "id": "10854b46-4488-4ac7-9832-c62c25589107",
   "metadata": {},
   "outputs": [
    {
     "data": {
      "text/plain": [
       "<Axes: ylabel='Frequency'>"
      ]
     },
     "execution_count": 70,
     "metadata": {},
     "output_type": "execute_result"
    },
    {
     "data": {
      "image/png": "[encoded data removed]",
      "text/plain": [
       "<Figure size 640x480 with 1 Axes>"
      ]
     },
     "metadata": {},
     "output_type": "display_data"
    }
   ],
   "source": [
    "df_scaled.Returns.plot.hist()"
   ]
  },
  {
   "cell_type": "code",
   "execution_count": 71,
   "id": "459c49cf-a871-484e-b965-bda24d801d11",
   "metadata": {},
   "outputs": [
    {
     "data": {
      "text/plain": [
       "<Axes: ylabel='Frequency'>"
      ]
     },
     "execution_count": 71,
     "metadata": {},
     "output_type": "execute_result"
    },
    {
     "data": {
      "image/png": "[encoded data removed]",
      "text/plain": [
       "<Figure size 640x480 with 1 Axes>"
      ]
     },
     "metadata": {},
     "output_type": "display_data"
    }
   ],
   "source": [
    "df_scaled.Volatility.plot.hist()"
   ]
  },
  {
   "cell_type": "markdown",
   "id": "1c80a4d1-84b3-47c8-b05e-52a64539a7fd",
   "metadata": {},
   "source": [
    "### K-Means Clustering"
   ]
  },
  {
   "cell_type": "markdown",
   "id": "13450a8f-9112-49af-8e4a-49ff21d780bb",
   "metadata": {},
   "source": [
    "I will use KneeLocator to find optimum number of clusters for the K-Means Clustering"
   ]
  },
  {
   "cell_type": "code",
   "execution_count": 17,
   "id": "0688813a-05fc-4a22-9ab1-21f47e343ac3",
   "metadata": {},
   "outputs": [
    {
     "name": "stdout",
     "output_type": "stream",
     "text": [
      "optimum clusters 5\n"
     ]
    }
   ],
   "source": [
    "# Find optimum number of clusters\n",
    "X = df_scaled.copy()\n",
    "K = range(1,15)\n",
    "distortions = []\n",
    "for k in K:\n",
    "    kmeans = KMeans(n_clusters=k)\n",
    "    kmeans.fit(X)\n",
    "    distortions.append(kmeans.inertia_)\n",
    "\n",
    "kl = KneeLocator(K, distortions, curve=\"convex\", direction=\"decreasing\")\n",
    "c = kl.elbow\n",
    "print(f'optimum clusters {c}')"
   ]
  },
  {
   "cell_type": "code",
   "execution_count": 18,
   "id": "8d778c81-7d72-43be-a3c5-28a4087ee721",
   "metadata": {},
   "outputs": [],
   "source": [
    "# Fit K-Means model with the optimum clusters\n",
    "k_means = KMeans(n_clusters=c)\n",
    "k_means.fit(X)\n",
    "prediction = k_means.predict(df_scaled)"
   ]
  },
  {
   "cell_type": "markdown",
   "id": "436239b7-784f-47c0-bbc8-878be5f7c178",
   "metadata": {},
   "source": [
    "I will plot the clusters and mark the centroids to see if there are any outliers"
   ]
  },
  {
   "cell_type": "code",
   "execution_count": 73,
   "id": "af566c59-fcea-4500-ac4a-57e3c103d6e3",
   "metadata": {},
   "outputs": [
    {
     "data": {
      "image/png": "[encoded data removed]",
      "text/plain": [
       "<Figure size 1500x800 with 2 Axes>"
      ]
     },
     "metadata": {},
     "output_type": "display_data"
    }
   ],
   "source": [
    "centroids = k_means.cluster_centers_\n",
    "fig =plt.figure(figsize=(15,8))\n",
    "ax = fig.add_subplot(111)\n",
    "scatter = ax.scatter(X.iloc[:,0], X.iloc[:,1], c=k_means.labels_, cmap='rainbow', label=X.index)\n",
    "ax.set_title('K-Means Clusters')\n",
    "ax.set_xlabel('Mean Return')\n",
    "ax.set_ylabel('Volatility')\n",
    "plt.colorbar(scatter)\n",
    "plt.plot(centroids[:,0], centroids[:,1], 'sg', markersize=10)\n",
    "plt.show()"
   ]
  },
  {
   "cell_type": "code",
   "execution_count": 23,
   "id": "9087407d-f804-47a4-b9ec-3f7f52f305fd",
   "metadata": {},
   "outputs": [
    {
     "data": {
      "text/plain": [
       "AADR    4\n",
       "AAXJ    4\n",
       "ACWI    1\n",
       "ACWX    4\n",
       "AGNG    1\n",
       "AGZD    0\n",
       "AIA     4\n",
       "AIRR    1\n",
       "ALTY    4\n",
       "ANGL    0\n",
       "ASET    4\n",
       "BBH     1\n",
       "BIB     2\n",
       "BIS     4\n",
       "BJK     4\n",
       "dtype: int32"
      ]
     },
     "execution_count": 23,
     "metadata": {},
     "output_type": "execute_result"
    }
   ],
   "source": [
    "cs = pd.Series(index=X.index, data=k_means.labels_.flatten())\n",
    "cs_all = pd.Series(index=X.index, data=k_means.labels_.flatten())\n",
    "cs = cs [cs != -1]\n",
    "cs[:15]"
   ]
  },
  {
   "cell_type": "markdown",
   "id": "8681c04c-b340-4386-bea5-cb0d54a73849",
   "metadata": {},
   "source": [
    "There seems to be outliers.  I can either adjust the clusters or get rid of the outliers but I will ignore that for now"
   ]
  },
  {
   "cell_type": "markdown",
   "id": "31ef0232-ae4f-440f-90fd-53c5c200a696",
   "metadata": {},
   "source": [
    "I will plot the number of ETFs per cluster"
   ]
  },
  {
   "cell_type": "code",
   "execution_count": 24,
   "id": "f9f8cbce-a0e1-4982-998b-eda9af56505a",
   "metadata": {},
   "outputs": [
    {
     "data": {
      "image/png": "[encoded data removed]",
      "text/plain": [
       "<Figure size 1000x500 with 1 Axes>"
      ]
     },
     "metadata": {},
     "output_type": "display_data"
    }
   ],
   "source": [
    "\n",
    "plt.figure(figsize=(10,5))\n",
    "plt.bar(range(len(cs.value_counts())), cs.value_counts())\n",
    "plt.title('Clusters')\n",
    "plt.xlabel('Cluster')\n",
    "plt.ylabel('Features Count')\n",
    "plt.show()"
   ]
  },
  {
   "cell_type": "markdown",
   "id": "7c6d554c-e3b1-49ad-9b95-ca15a7095eb2",
   "metadata": {},
   "source": [
    "I will find the cointegration between each of the ETFs with other ETFs in the same cluster.  Since the matrix is going to be huge, I will limit the number of combinations by not running the same over all ETFs in all clusters"
   ]
  },
  {
   "cell_type": "code",
   "execution_count": 25,
   "id": "21711292-2d38-424d-9ee6-b5e22c794958",
   "metadata": {},
   "outputs": [
    {
     "name": "stdout",
     "output_type": "stream",
     "text": [
      "feature number previous 290, current 204\n"
     ]
    }
   ],
   "source": [
    "# Remove items\n",
    "clusters_clean = cs[cs < 4]\n",
    "print(f'feature number previous {len(cs)}, current {len(clusters_clean)}')"
   ]
  },
  {
   "cell_type": "markdown",
   "id": "1b69820f-b9ca-4851-9a42-1dc3c68765a0",
   "metadata": {},
   "source": [
    "This is still a significant number and the cointegration can take an hour to complete\n",
    "Cointegration is a tool for modeling long-term relationships in time series data.  I will be using a p value of < 0.05 and this should be adjusted according to the risk profile of investors"
   ]
  },
  {
   "cell_type": "code",
   "execution_count": 28,
   "id": "dc2a674f-167f-4c46-9b3a-edd716c8eee7",
   "metadata": {},
   "outputs": [],
   "source": [
    "def calculate_cointegration(series1, series2):\n",
    "    coint_flag = 0\n",
    "    coint_res = coint(series1, series2)\n",
    "    coint_t = coint_res[0]\n",
    "    p_value = coint_res[1]\n",
    "    crit_val = coint_res[2][1]\n",
    "    model = sm.OLS(series1, series2).fit()\n",
    "    hedge_ratio = model.params[0]\n",
    "    coint_flag = 1 if p_value < 0.05 and coint_t < crit_val else 0\n",
    "    return coint_flag, hedge_ratio"
   ]
  },
  {
   "cell_type": "code",
   "execution_count": 29,
   "id": "e4c896db-2b8c-4035-bc7f-6193d1f8c86e",
   "metadata": {},
   "outputs": [],
   "source": [
    "# find cointegrated pairs\n",
    "tested_pairs = []\n",
    "cointegrated_pairs = []\n",
    "\n",
    "if not load_coint_pairs:\n",
    "    for base_asset in clusters_clean.index:\n",
    "        base_label = clusters_clean[base_asset]\n",
    "        for compare_asset in clusters_clean.index:\n",
    "            compare_label = clusters_clean[compare_asset]\n",
    "\n",
    "            test_pair = base_asset + compare_asset\n",
    "            test_pair = ''.join(sorted(test_pair))\n",
    "            is_tested = test_pair in tested_pairs\n",
    "            tested_pairs.append(test_pair)\n",
    "            if compare_asset != base_asset and base_label == compare_label and not is_tested:\n",
    "                series1 = data[base_asset].values.astype(float)\n",
    "                series2 = data[compare_asset].values.astype(float)\n",
    "                coint_flag, _ = calculate_cointegration(series1, series2)\n",
    "                if coint_flag == 1:\n",
    "                    cointegrated_pairs.append({\"base_asset\":base_asset, \"compare_asset\":compare_asset, \"label\":base_label})\n",
    "    df_coint = pd.DataFrame(cointegrated_pairs).sort_values(by='label')\n",
    "    df_coint.to_csv(file_name_coint)"
   ]
  },
  {
   "cell_type": "code",
   "execution_count": 30,
   "id": "7c6024a4-e1fd-4f45-946d-e2f82a3ef116",
   "metadata": {},
   "outputs": [
    {
     "data": {
      "text/html": [
       "<div>\n",
       "<style scoped>\n",
       "    .dataframe tbody tr th:only-of-type {\n",
       "        vertical-align: middle;\n",
       "    }\n",
       "\n",
       "    .dataframe tbody tr th {\n",
       "        vertical-align: top;\n",
       "    }\n",
       "\n",
       "    .dataframe thead th {\n",
       "        text-align: right;\n",
       "    }\n",
       "</style>\n",
       "<table border=\"1\" class=\"dataframe\">\n",
       "  <thead>\n",
       "    <tr style=\"text-align: right;\">\n",
       "      <th></th>\n",
       "      <th>Unnamed: 0</th>\n",
       "      <th>base_asset</th>\n",
       "      <th>compare_asset</th>\n",
       "      <th>label</th>\n",
       "    </tr>\n",
       "  </thead>\n",
       "  <tbody>\n",
       "    <tr>\n",
       "      <th>0</th>\n",
       "      <td>150</td>\n",
       "      <td>FTSL</td>\n",
       "      <td>VTIP</td>\n",
       "      <td>0</td>\n",
       "    </tr>\n",
       "    <tr>\n",
       "      <th>1</th>\n",
       "      <td>117</td>\n",
       "      <td>FIXD</td>\n",
       "      <td>IUSB</td>\n",
       "      <td>0</td>\n",
       "    </tr>\n",
       "    <tr>\n",
       "      <th>2</th>\n",
       "      <td>113</td>\n",
       "      <td>FCAL</td>\n",
       "      <td>HYXF</td>\n",
       "      <td>0</td>\n",
       "    </tr>\n",
       "    <tr>\n",
       "      <th>3</th>\n",
       "      <td>112</td>\n",
       "      <td>FCAL</td>\n",
       "      <td>HYLS</td>\n",
       "      <td>0</td>\n",
       "    </tr>\n",
       "    <tr>\n",
       "      <th>4</th>\n",
       "      <td>103</td>\n",
       "      <td>EMCB</td>\n",
       "      <td>VGSH</td>\n",
       "      <td>0</td>\n",
       "    </tr>\n",
       "  </tbody>\n",
       "</table>\n",
       "</div>"
      ],
      "text/plain": [
       "   Unnamed: 0 base_asset compare_asset  label\n",
       "0         150       FTSL          VTIP      0\n",
       "1         117       FIXD          IUSB      0\n",
       "2         113       FCAL          HYXF      0\n",
       "3         112       FCAL          HYLS      0\n",
       "4         103       EMCB          VGSH      0"
      ]
     },
     "execution_count": 30,
     "metadata": {},
     "output_type": "execute_result"
    }
   ],
   "source": [
    "df_coint = pd.read_csv(file_name_coint)\n",
    "df_coint.head()"
   ]
  },
  {
   "cell_type": "markdown",
   "id": "76715887-a4e2-476a-b79b-1cd95276ccfb",
   "metadata": {},
   "source": [
    "Now that I have computed the cointegration, I will visualize price movement to see if the clustering has indeed identified correctly"
   ]
  },
  {
   "cell_type": "code",
   "execution_count": 33,
   "id": "898191ce-7f5b-49fe-a29b-7eedc3d41599",
   "metadata": {},
   "outputs": [
    {
     "data": {
      "image/png": "[encoded data removed]",
      "text/plain": [
       "<Figure size 1200x500 with 2 Axes>"
      ]
     },
     "metadata": {},
     "output_type": "display_data"
    }
   ],
   "source": [
    "def plot_series(etf1, etf2):\n",
    "    plt.figure(figsize=(12,5))    \n",
    "    ax1 = data[etf1].plot(color='blue', grid=True, label=etf1)\n",
    "    ax2 = data[etf2].plot(color='red', grid=True, secondary_y=True, label=etf2)\n",
    "    \n",
    "    h1, l1 = ax1.get_legend_handles_labels()\n",
    "    h2, l2 = ax2.get_legend_handles_labels()\n",
    "    \n",
    "    \n",
    "    plt.legend(h1+h2, l1+l2, loc=2)\n",
    "    plt.show()\n",
    "\n",
    "plot_series('EMCB', 'VGSH')"
   ]
  },
  {
   "cell_type": "markdown",
   "id": "1fc62d05-997d-41ca-abbc-29ddfac03d4d",
   "metadata": {},
   "source": [
    "I can see that the price movement does show some level of cointegration.  A trader can pair-trade these two ETFs by initiating the trade when the two securities diverge and close the trade when they no longer diverge.\n",
    "\n",
    "A trader can also use other methods like T-SNE to filter out the pairs"
   ]
  },
  {
   "cell_type": "markdown",
   "id": "76daefa3-4011-494c-8b9b-b4b9e065f4ad",
   "metadata": {},
   "source": [
    "### DBSCAN\n",
    "\n",
    "I will now use DBSCAN, which is another Unsupervised Machine Learning technique, to find clusters.  Since there is no test results to compare and find which method provides best clusters, I will not be doing any comparision between these two methods."
   ]
  },
  {
   "cell_type": "markdown",
   "id": "19f2160e-5792-41a3-8671-b61372d510e0",
   "metadata": {},
   "source": [
    "Calculate the percentage change of each of the securities and drop the first column because percentage change of first columns will be NA"
   ]
  },
  {
   "cell_type": "code",
   "execution_count": 74,
   "id": "37a4b318-bbc7-43c7-a969-c49451327529",
   "metadata": {},
   "outputs": [],
   "source": [
    "df_ret = data.pct_change().T"
   ]
  },
  {
   "cell_type": "code",
   "execution_count": 47,
   "id": "f2cba0f4-b13c-4f47-bcf0-697d064ec41f",
   "metadata": {},
   "outputs": [
    {
     "data": {
      "text/html": [
       "<div>\n",
       "<style scoped>\n",
       "    .dataframe tbody tr th:only-of-type {\n",
       "        vertical-align: middle;\n",
       "    }\n",
       "\n",
       "    .dataframe tbody tr th {\n",
       "        vertical-align: top;\n",
       "    }\n",
       "\n",
       "    .dataframe thead th {\n",
       "        text-align: right;\n",
       "    }\n",
       "</style>\n",
       "<table border=\"1\" class=\"dataframe\">\n",
       "  <thead>\n",
       "    <tr style=\"text-align: right;\">\n",
       "      <th>Date</th>\n",
       "      <th>2018-01-02</th>\n",
       "      <th>2018-01-03</th>\n",
       "      <th>2018-01-04</th>\n",
       "      <th>2018-01-05</th>\n",
       "      <th>2018-01-08</th>\n",
       "      <th>2018-01-09</th>\n",
       "      <th>2018-01-10</th>\n",
       "      <th>2018-01-11</th>\n",
       "      <th>2018-01-12</th>\n",
       "      <th>2018-01-16</th>\n",
       "      <th>...</th>\n",
       "      <th>2022-12-16</th>\n",
       "      <th>2022-12-19</th>\n",
       "      <th>2022-12-20</th>\n",
       "      <th>2022-12-21</th>\n",
       "      <th>2022-12-22</th>\n",
       "      <th>2022-12-23</th>\n",
       "      <th>2022-12-27</th>\n",
       "      <th>2022-12-28</th>\n",
       "      <th>2022-12-29</th>\n",
       "      <th>2022-12-30</th>\n",
       "    </tr>\n",
       "  </thead>\n",
       "  <tbody>\n",
       "    <tr>\n",
       "      <th>AADR</th>\n",
       "      <td>NaN</td>\n",
       "      <td>0.010448</td>\n",
       "      <td>0.003775</td>\n",
       "      <td>0.007848</td>\n",
       "      <td>0.000000</td>\n",
       "      <td>0.004705</td>\n",
       "      <td>-0.003391</td>\n",
       "      <td>0.007291</td>\n",
       "      <td>0.006434</td>\n",
       "      <td>-0.010708</td>\n",
       "      <td>...</td>\n",
       "      <td>-0.000210</td>\n",
       "      <td>-0.002312</td>\n",
       "      <td>0.014114</td>\n",
       "      <td>0.013710</td>\n",
       "      <td>-0.007172</td>\n",
       "      <td>0.006053</td>\n",
       "      <td>-0.011618</td>\n",
       "      <td>-0.005038</td>\n",
       "      <td>0.007595</td>\n",
       "      <td>0.000000</td>\n",
       "    </tr>\n",
       "    <tr>\n",
       "      <th>AAXJ</th>\n",
       "      <td>NaN</td>\n",
       "      <td>0.008731</td>\n",
       "      <td>0.001655</td>\n",
       "      <td>0.009150</td>\n",
       "      <td>0.001007</td>\n",
       "      <td>-0.001006</td>\n",
       "      <td>-0.006171</td>\n",
       "      <td>0.006082</td>\n",
       "      <td>0.009446</td>\n",
       "      <td>-0.004616</td>\n",
       "      <td>...</td>\n",
       "      <td>0.000925</td>\n",
       "      <td>-0.000462</td>\n",
       "      <td>-0.004776</td>\n",
       "      <td>0.009288</td>\n",
       "      <td>-0.008896</td>\n",
       "      <td>-0.001702</td>\n",
       "      <td>0.019377</td>\n",
       "      <td>-0.020377</td>\n",
       "      <td>0.020180</td>\n",
       "      <td>-0.014151</td>\n",
       "    </tr>\n",
       "    <tr>\n",
       "      <th>ACWI</th>\n",
       "      <td>NaN</td>\n",
       "      <td>0.005084</td>\n",
       "      <td>0.006973</td>\n",
       "      <td>0.006517</td>\n",
       "      <td>0.000944</td>\n",
       "      <td>0.001213</td>\n",
       "      <td>-0.002288</td>\n",
       "      <td>0.006881</td>\n",
       "      <td>0.007638</td>\n",
       "      <td>-0.001729</td>\n",
       "      <td>...</td>\n",
       "      <td>-0.009679</td>\n",
       "      <td>-0.006123</td>\n",
       "      <td>0.002251</td>\n",
       "      <td>0.013122</td>\n",
       "      <td>-0.012019</td>\n",
       "      <td>0.004606</td>\n",
       "      <td>-0.000353</td>\n",
       "      <td>-0.012937</td>\n",
       "      <td>0.017395</td>\n",
       "      <td>-0.005973</td>\n",
       "    </tr>\n",
       "    <tr>\n",
       "      <th>ACWX</th>\n",
       "      <td>NaN</td>\n",
       "      <td>0.006337</td>\n",
       "      <td>0.007478</td>\n",
       "      <td>0.007226</td>\n",
       "      <td>0.000000</td>\n",
       "      <td>-0.000194</td>\n",
       "      <td>-0.002715</td>\n",
       "      <td>0.006029</td>\n",
       "      <td>0.009086</td>\n",
       "      <td>-0.002108</td>\n",
       "      <td>...</td>\n",
       "      <td>-0.005918</td>\n",
       "      <td>-0.001764</td>\n",
       "      <td>0.002872</td>\n",
       "      <td>0.010573</td>\n",
       "      <td>-0.009154</td>\n",
       "      <td>0.002860</td>\n",
       "      <td>0.006361</td>\n",
       "      <td>-0.012206</td>\n",
       "      <td>0.015225</td>\n",
       "      <td>-0.011085</td>\n",
       "    </tr>\n",
       "    <tr>\n",
       "      <th>AGNG</th>\n",
       "      <td>NaN</td>\n",
       "      <td>0.014839</td>\n",
       "      <td>-0.006080</td>\n",
       "      <td>0.008544</td>\n",
       "      <td>-0.002958</td>\n",
       "      <td>0.013072</td>\n",
       "      <td>-0.006948</td>\n",
       "      <td>0.003198</td>\n",
       "      <td>0.007771</td>\n",
       "      <td>0.003460</td>\n",
       "      <td>...</td>\n",
       "      <td>-0.005319</td>\n",
       "      <td>-0.011268</td>\n",
       "      <td>0.003284</td>\n",
       "      <td>0.010589</td>\n",
       "      <td>-0.000724</td>\n",
       "      <td>-0.001754</td>\n",
       "      <td>-0.004889</td>\n",
       "      <td>-0.006602</td>\n",
       "      <td>0.017480</td>\n",
       "      <td>-0.004447</td>\n",
       "    </tr>\n",
       "  </tbody>\n",
       "</table>\n",
       "<p>5 rows × 1259 columns</p>\n",
       "</div>"
      ],
      "text/plain": [
       "Date  2018-01-02  2018-01-03  2018-01-04  2018-01-05  2018-01-08  2018-01-09  \\\n",
       "AADR         NaN    0.010448    0.003775    0.007848    0.000000    0.004705   \n",
       "AAXJ         NaN    0.008731    0.001655    0.009150    0.001007   -0.001006   \n",
       "ACWI         NaN    0.005084    0.006973    0.006517    0.000944    0.001213   \n",
       "ACWX         NaN    0.006337    0.007478    0.007226    0.000000   -0.000194   \n",
       "AGNG         NaN    0.014839   -0.006080    0.008544   -0.002958    0.013072   \n",
       "\n",
       "Date  2018-01-10  2018-01-11  2018-01-12  2018-01-16  ...  2022-12-16  \\\n",
       "AADR   -0.003391    0.007291    0.006434   -0.010708  ...   -0.000210   \n",
       "AAXJ   -0.006171    0.006082    0.009446   -0.004616  ...    0.000925   \n",
       "ACWI   -0.002288    0.006881    0.007638   -0.001729  ...   -0.009679   \n",
       "ACWX   -0.002715    0.006029    0.009086   -0.002108  ...   -0.005918   \n",
       "AGNG   -0.006948    0.003198    0.007771    0.003460  ...   -0.005319   \n",
       "\n",
       "Date  2022-12-19  2022-12-20  2022-12-21  2022-12-22  2022-12-23  2022-12-27  \\\n",
       "AADR   -0.002312    0.014114    0.013710   -0.007172    0.006053   -0.011618   \n",
       "AAXJ   -0.000462   -0.004776    0.009288   -0.008896   -0.001702    0.019377   \n",
       "ACWI   -0.006123    0.002251    0.013122   -0.012019    0.004606   -0.000353   \n",
       "ACWX   -0.001764    0.002872    0.010573   -0.009154    0.002860    0.006361   \n",
       "AGNG   -0.011268    0.003284    0.010589   -0.000724   -0.001754   -0.004889   \n",
       "\n",
       "Date  2022-12-28  2022-12-29  2022-12-30  \n",
       "AADR   -0.005038    0.007595    0.000000  \n",
       "AAXJ   -0.020377    0.020180   -0.014151  \n",
       "ACWI   -0.012937    0.017395   -0.005973  \n",
       "ACWX   -0.012206    0.015225   -0.011085  \n",
       "AGNG   -0.006602    0.017480   -0.004447  \n",
       "\n",
       "[5 rows x 1259 columns]"
      ]
     },
     "execution_count": 47,
     "metadata": {},
     "output_type": "execute_result"
    }
   ],
   "source": [
    "df_ret.head()"
   ]
  },
  {
   "cell_type": "code",
   "execution_count": 48,
   "id": "7e31bb05-4211-4e1b-a7d4-7dbc016f3a4d",
   "metadata": {},
   "outputs": [
    {
     "data": {
      "text/html": [
       "<div>\n",
       "<style scoped>\n",
       "    .dataframe tbody tr th:only-of-type {\n",
       "        vertical-align: middle;\n",
       "    }\n",
       "\n",
       "    .dataframe tbody tr th {\n",
       "        vertical-align: top;\n",
       "    }\n",
       "\n",
       "    .dataframe thead th {\n",
       "        text-align: right;\n",
       "    }\n",
       "</style>\n",
       "<table border=\"1\" class=\"dataframe\">\n",
       "  <thead>\n",
       "    <tr style=\"text-align: right;\">\n",
       "      <th>Date</th>\n",
       "      <th>2018-01-03</th>\n",
       "      <th>2018-01-04</th>\n",
       "      <th>2018-01-05</th>\n",
       "      <th>2018-01-08</th>\n",
       "      <th>2018-01-09</th>\n",
       "      <th>2018-01-10</th>\n",
       "      <th>2018-01-11</th>\n",
       "      <th>2018-01-12</th>\n",
       "      <th>2018-01-16</th>\n",
       "      <th>2018-01-17</th>\n",
       "      <th>...</th>\n",
       "      <th>2022-12-16</th>\n",
       "      <th>2022-12-19</th>\n",
       "      <th>2022-12-20</th>\n",
       "      <th>2022-12-21</th>\n",
       "      <th>2022-12-22</th>\n",
       "      <th>2022-12-23</th>\n",
       "      <th>2022-12-27</th>\n",
       "      <th>2022-12-28</th>\n",
       "      <th>2022-12-29</th>\n",
       "      <th>2022-12-30</th>\n",
       "    </tr>\n",
       "  </thead>\n",
       "  <tbody>\n",
       "    <tr>\n",
       "      <th>AADR</th>\n",
       "      <td>0.010448</td>\n",
       "      <td>0.003775</td>\n",
       "      <td>0.007848</td>\n",
       "      <td>0.000000</td>\n",
       "      <td>0.004705</td>\n",
       "      <td>-0.003391</td>\n",
       "      <td>0.007291</td>\n",
       "      <td>0.006434</td>\n",
       "      <td>-0.010708</td>\n",
       "      <td>0.012601</td>\n",
       "      <td>...</td>\n",
       "      <td>-0.000210</td>\n",
       "      <td>-0.002312</td>\n",
       "      <td>0.014114</td>\n",
       "      <td>0.013710</td>\n",
       "      <td>-0.007172</td>\n",
       "      <td>0.006053</td>\n",
       "      <td>-0.011618</td>\n",
       "      <td>-0.005038</td>\n",
       "      <td>0.007595</td>\n",
       "      <td>0.000000</td>\n",
       "    </tr>\n",
       "    <tr>\n",
       "      <th>AAXJ</th>\n",
       "      <td>0.008731</td>\n",
       "      <td>0.001655</td>\n",
       "      <td>0.009150</td>\n",
       "      <td>0.001007</td>\n",
       "      <td>-0.001006</td>\n",
       "      <td>-0.006171</td>\n",
       "      <td>0.006082</td>\n",
       "      <td>0.009446</td>\n",
       "      <td>-0.004616</td>\n",
       "      <td>0.012033</td>\n",
       "      <td>...</td>\n",
       "      <td>0.000925</td>\n",
       "      <td>-0.000462</td>\n",
       "      <td>-0.004776</td>\n",
       "      <td>0.009288</td>\n",
       "      <td>-0.008896</td>\n",
       "      <td>-0.001702</td>\n",
       "      <td>0.019377</td>\n",
       "      <td>-0.020377</td>\n",
       "      <td>0.020180</td>\n",
       "      <td>-0.014151</td>\n",
       "    </tr>\n",
       "    <tr>\n",
       "      <th>ACWI</th>\n",
       "      <td>0.005084</td>\n",
       "      <td>0.006973</td>\n",
       "      <td>0.006517</td>\n",
       "      <td>0.000944</td>\n",
       "      <td>0.001213</td>\n",
       "      <td>-0.002288</td>\n",
       "      <td>0.006881</td>\n",
       "      <td>0.007638</td>\n",
       "      <td>-0.001729</td>\n",
       "      <td>0.007859</td>\n",
       "      <td>...</td>\n",
       "      <td>-0.009679</td>\n",
       "      <td>-0.006123</td>\n",
       "      <td>0.002251</td>\n",
       "      <td>0.013122</td>\n",
       "      <td>-0.012019</td>\n",
       "      <td>0.004606</td>\n",
       "      <td>-0.000353</td>\n",
       "      <td>-0.012937</td>\n",
       "      <td>0.017395</td>\n",
       "      <td>-0.005973</td>\n",
       "    </tr>\n",
       "    <tr>\n",
       "      <th>ACWX</th>\n",
       "      <td>0.006337</td>\n",
       "      <td>0.007478</td>\n",
       "      <td>0.007226</td>\n",
       "      <td>0.000000</td>\n",
       "      <td>-0.000194</td>\n",
       "      <td>-0.002715</td>\n",
       "      <td>0.006029</td>\n",
       "      <td>0.009086</td>\n",
       "      <td>-0.002108</td>\n",
       "      <td>0.007295</td>\n",
       "      <td>...</td>\n",
       "      <td>-0.005918</td>\n",
       "      <td>-0.001764</td>\n",
       "      <td>0.002872</td>\n",
       "      <td>0.010573</td>\n",
       "      <td>-0.009154</td>\n",
       "      <td>0.002860</td>\n",
       "      <td>0.006361</td>\n",
       "      <td>-0.012206</td>\n",
       "      <td>0.015225</td>\n",
       "      <td>-0.011085</td>\n",
       "    </tr>\n",
       "    <tr>\n",
       "      <th>AGNG</th>\n",
       "      <td>0.014839</td>\n",
       "      <td>-0.006080</td>\n",
       "      <td>0.008544</td>\n",
       "      <td>-0.002958</td>\n",
       "      <td>0.013072</td>\n",
       "      <td>-0.006948</td>\n",
       "      <td>0.003198</td>\n",
       "      <td>0.007771</td>\n",
       "      <td>0.003460</td>\n",
       "      <td>0.001478</td>\n",
       "      <td>...</td>\n",
       "      <td>-0.005319</td>\n",
       "      <td>-0.011268</td>\n",
       "      <td>0.003284</td>\n",
       "      <td>0.010589</td>\n",
       "      <td>-0.000724</td>\n",
       "      <td>-0.001754</td>\n",
       "      <td>-0.004889</td>\n",
       "      <td>-0.006602</td>\n",
       "      <td>0.017480</td>\n",
       "      <td>-0.004447</td>\n",
       "    </tr>\n",
       "  </tbody>\n",
       "</table>\n",
       "<p>5 rows × 1258 columns</p>\n",
       "</div>"
      ],
      "text/plain": [
       "Date  2018-01-03  2018-01-04  2018-01-05  2018-01-08  2018-01-09  2018-01-10  \\\n",
       "AADR    0.010448    0.003775    0.007848    0.000000    0.004705   -0.003391   \n",
       "AAXJ    0.008731    0.001655    0.009150    0.001007   -0.001006   -0.006171   \n",
       "ACWI    0.005084    0.006973    0.006517    0.000944    0.001213   -0.002288   \n",
       "ACWX    0.006337    0.007478    0.007226    0.000000   -0.000194   -0.002715   \n",
       "AGNG    0.014839   -0.006080    0.008544   -0.002958    0.013072   -0.006948   \n",
       "\n",
       "Date  2018-01-11  2018-01-12  2018-01-16  2018-01-17  ...  2022-12-16  \\\n",
       "AADR    0.007291    0.006434   -0.010708    0.012601  ...   -0.000210   \n",
       "AAXJ    0.006082    0.009446   -0.004616    0.012033  ...    0.000925   \n",
       "ACWI    0.006881    0.007638   -0.001729    0.007859  ...   -0.009679   \n",
       "ACWX    0.006029    0.009086   -0.002108    0.007295  ...   -0.005918   \n",
       "AGNG    0.003198    0.007771    0.003460    0.001478  ...   -0.005319   \n",
       "\n",
       "Date  2022-12-19  2022-12-20  2022-12-21  2022-12-22  2022-12-23  2022-12-27  \\\n",
       "AADR   -0.002312    0.014114    0.013710   -0.007172    0.006053   -0.011618   \n",
       "AAXJ   -0.000462   -0.004776    0.009288   -0.008896   -0.001702    0.019377   \n",
       "ACWI   -0.006123    0.002251    0.013122   -0.012019    0.004606   -0.000353   \n",
       "ACWX   -0.001764    0.002872    0.010573   -0.009154    0.002860    0.006361   \n",
       "AGNG   -0.011268    0.003284    0.010589   -0.000724   -0.001754   -0.004889   \n",
       "\n",
       "Date  2022-12-28  2022-12-29  2022-12-30  \n",
       "AADR   -0.005038    0.007595    0.000000  \n",
       "AAXJ   -0.020377    0.020180   -0.014151  \n",
       "ACWI   -0.012937    0.017395   -0.005973  \n",
       "ACWX   -0.012206    0.015225   -0.011085  \n",
       "AGNG   -0.006602    0.017480   -0.004447  \n",
       "\n",
       "[5 rows x 1258 columns]"
      ]
     },
     "execution_count": 48,
     "metadata": {},
     "output_type": "execute_result"
    }
   ],
   "source": [
    "df_ret = df_ret.drop(['2018-01-02'], axis = 1)\n",
    "df_ret.head()"
   ]
  },
  {
   "cell_type": "code",
   "execution_count": 49,
   "id": "7f075ba3-c2aa-4e0c-b84e-0d615b643ab6",
   "metadata": {},
   "outputs": [
    {
     "data": {
      "text/plain": [
       "(290, 1258)"
      ]
     },
     "execution_count": 49,
     "metadata": {},
     "output_type": "execute_result"
    }
   ],
   "source": [
    "df_ret = df_ret.dropna()\n",
    "df_ret.shape"
   ]
  },
  {
   "cell_type": "markdown",
   "id": "80aef9b9-1476-4fd5-8016-798c2fee4c27",
   "metadata": {},
   "source": [
    "There are no NAs in the data"
   ]
  },
  {
   "cell_type": "markdown",
   "id": "c59922cd-bbaa-4015-8db3-6e3b749c7bbc",
   "metadata": {},
   "source": [
    "Since there are 290 ETFs, and 1258 entries for each ETF, I will employ PCA to reduce the dimensions "
   ]
  },
  {
   "cell_type": "code",
   "execution_count": 50,
   "id": "f60a3a3c-b281-47a8-a2f7-a3343fd4cbfe",
   "metadata": {},
   "outputs": [
    {
     "data": {
      "text/html": [
       "<div>\n",
       "<style scoped>\n",
       "    .dataframe tbody tr th:only-of-type {\n",
       "        vertical-align: middle;\n",
       "    }\n",
       "\n",
       "    .dataframe tbody tr th {\n",
       "        vertical-align: top;\n",
       "    }\n",
       "\n",
       "    .dataframe thead th {\n",
       "        text-align: right;\n",
       "    }\n",
       "</style>\n",
       "<table border=\"1\" class=\"dataframe\">\n",
       "  <thead>\n",
       "    <tr style=\"text-align: right;\">\n",
       "      <th></th>\n",
       "      <th>P0</th>\n",
       "      <th>P1</th>\n",
       "      <th>P2</th>\n",
       "      <th>P3</th>\n",
       "      <th>P4</th>\n",
       "      <th>P5</th>\n",
       "      <th>P6</th>\n",
       "      <th>P7</th>\n",
       "      <th>P8</th>\n",
       "      <th>P9</th>\n",
       "      <th>...</th>\n",
       "      <th>P40</th>\n",
       "      <th>P41</th>\n",
       "      <th>P42</th>\n",
       "      <th>P43</th>\n",
       "      <th>P44</th>\n",
       "      <th>P45</th>\n",
       "      <th>P46</th>\n",
       "      <th>P47</th>\n",
       "      <th>P48</th>\n",
       "      <th>P49</th>\n",
       "    </tr>\n",
       "  </thead>\n",
       "  <tbody>\n",
       "    <tr>\n",
       "      <th>AADR</th>\n",
       "      <td>-0.061433</td>\n",
       "      <td>-0.019248</td>\n",
       "      <td>0.081574</td>\n",
       "      <td>-0.009151</td>\n",
       "      <td>-0.048022</td>\n",
       "      <td>-0.051882</td>\n",
       "      <td>0.005757</td>\n",
       "      <td>0.020720</td>\n",
       "      <td>-0.095846</td>\n",
       "      <td>-0.007642</td>\n",
       "      <td>...</td>\n",
       "      <td>-0.006511</td>\n",
       "      <td>-0.073679</td>\n",
       "      <td>0.045243</td>\n",
       "      <td>0.047299</td>\n",
       "      <td>0.035449</td>\n",
       "      <td>0.021931</td>\n",
       "      <td>0.071499</td>\n",
       "      <td>0.035319</td>\n",
       "      <td>-0.035626</td>\n",
       "      <td>0.024307</td>\n",
       "    </tr>\n",
       "    <tr>\n",
       "      <th>AAXJ</th>\n",
       "      <td>-0.056254</td>\n",
       "      <td>-0.035239</td>\n",
       "      <td>0.128929</td>\n",
       "      <td>-0.034433</td>\n",
       "      <td>0.033827</td>\n",
       "      <td>0.095175</td>\n",
       "      <td>0.022418</td>\n",
       "      <td>-0.010603</td>\n",
       "      <td>0.063846</td>\n",
       "      <td>0.047697</td>\n",
       "      <td>...</td>\n",
       "      <td>-0.032114</td>\n",
       "      <td>-0.002352</td>\n",
       "      <td>-0.024920</td>\n",
       "      <td>-0.003473</td>\n",
       "      <td>-0.036600</td>\n",
       "      <td>0.023372</td>\n",
       "      <td>-0.023277</td>\n",
       "      <td>-0.035487</td>\n",
       "      <td>0.003228</td>\n",
       "      <td>-0.003795</td>\n",
       "    </tr>\n",
       "    <tr>\n",
       "      <th>ACWI</th>\n",
       "      <td>-0.060442</td>\n",
       "      <td>-0.010400</td>\n",
       "      <td>0.012273</td>\n",
       "      <td>0.035721</td>\n",
       "      <td>0.020457</td>\n",
       "      <td>-0.006052</td>\n",
       "      <td>0.040562</td>\n",
       "      <td>0.002567</td>\n",
       "      <td>0.016992</td>\n",
       "      <td>0.005628</td>\n",
       "      <td>...</td>\n",
       "      <td>-0.002354</td>\n",
       "      <td>0.011312</td>\n",
       "      <td>-0.007169</td>\n",
       "      <td>-0.004106</td>\n",
       "      <td>0.003505</td>\n",
       "      <td>0.003093</td>\n",
       "      <td>0.010894</td>\n",
       "      <td>0.000805</td>\n",
       "      <td>-0.015082</td>\n",
       "      <td>0.009248</td>\n",
       "    </tr>\n",
       "    <tr>\n",
       "      <th>ACWX</th>\n",
       "      <td>-0.057109</td>\n",
       "      <td>0.004143</td>\n",
       "      <td>0.071720</td>\n",
       "      <td>0.021649</td>\n",
       "      <td>0.001673</td>\n",
       "      <td>0.022306</td>\n",
       "      <td>0.041728</td>\n",
       "      <td>0.025414</td>\n",
       "      <td>-0.012677</td>\n",
       "      <td>-0.006864</td>\n",
       "      <td>...</td>\n",
       "      <td>-0.012153</td>\n",
       "      <td>0.017995</td>\n",
       "      <td>-0.016645</td>\n",
       "      <td>-0.013917</td>\n",
       "      <td>-0.011904</td>\n",
       "      <td>0.010010</td>\n",
       "      <td>0.009421</td>\n",
       "      <td>0.007744</td>\n",
       "      <td>-0.018898</td>\n",
       "      <td>0.006438</td>\n",
       "    </tr>\n",
       "    <tr>\n",
       "      <th>AGNG</th>\n",
       "      <td>-0.049541</td>\n",
       "      <td>-0.021704</td>\n",
       "      <td>-0.013275</td>\n",
       "      <td>0.018559</td>\n",
       "      <td>-0.091609</td>\n",
       "      <td>0.016464</td>\n",
       "      <td>0.038376</td>\n",
       "      <td>0.035400</td>\n",
       "      <td>0.025659</td>\n",
       "      <td>-0.024218</td>\n",
       "      <td>...</td>\n",
       "      <td>0.008644</td>\n",
       "      <td>-0.004148</td>\n",
       "      <td>0.121027</td>\n",
       "      <td>-0.050120</td>\n",
       "      <td>0.011265</td>\n",
       "      <td>0.003131</td>\n",
       "      <td>0.101109</td>\n",
       "      <td>-0.012133</td>\n",
       "      <td>-0.044917</td>\n",
       "      <td>-0.010627</td>\n",
       "    </tr>\n",
       "  </tbody>\n",
       "</table>\n",
       "<p>5 rows × 50 columns</p>\n",
       "</div>"
      ],
      "text/plain": [
       "            P0        P1        P2        P3        P4        P5        P6  \\\n",
       "AADR -0.061433 -0.019248  0.081574 -0.009151 -0.048022 -0.051882  0.005757   \n",
       "AAXJ -0.056254 -0.035239  0.128929 -0.034433  0.033827  0.095175  0.022418   \n",
       "ACWI -0.060442 -0.010400  0.012273  0.035721  0.020457 -0.006052  0.040562   \n",
       "ACWX -0.057109  0.004143  0.071720  0.021649  0.001673  0.022306  0.041728   \n",
       "AGNG -0.049541 -0.021704 -0.013275  0.018559 -0.091609  0.016464  0.038376   \n",
       "\n",
       "            P7        P8        P9  ...       P40       P41       P42  \\\n",
       "AADR  0.020720 -0.095846 -0.007642  ... -0.006511 -0.073679  0.045243   \n",
       "AAXJ -0.010603  0.063846  0.047697  ... -0.032114 -0.002352 -0.024920   \n",
       "ACWI  0.002567  0.016992  0.005628  ... -0.002354  0.011312 -0.007169   \n",
       "ACWX  0.025414 -0.012677 -0.006864  ... -0.012153  0.017995 -0.016645   \n",
       "AGNG  0.035400  0.025659 -0.024218  ...  0.008644 -0.004148  0.121027   \n",
       "\n",
       "           P43       P44       P45       P46       P47       P48       P49  \n",
       "AADR  0.047299  0.035449  0.021931  0.071499  0.035319 -0.035626  0.024307  \n",
       "AAXJ -0.003473 -0.036600  0.023372 -0.023277 -0.035487  0.003228 -0.003795  \n",
       "ACWI -0.004106  0.003505  0.003093  0.010894  0.000805 -0.015082  0.009248  \n",
       "ACWX -0.013917 -0.011904  0.010010  0.009421  0.007744 -0.018898  0.006438  \n",
       "AGNG -0.050120  0.011265  0.003131  0.101109 -0.012133 -0.044917 -0.010627  \n",
       "\n",
       "[5 rows x 50 columns]"
      ]
     },
     "execution_count": 50,
     "metadata": {},
     "output_type": "execute_result"
    }
   ],
   "source": [
    "N_COMPONENTS = 50\n",
    "pca1 = PCA(n_components=N_COMPONENTS)\n",
    "pca1.fit(df_ret.T)\n",
    "pca1.components_.T.shape\n",
    "rp = pd.DataFrame(data = pca1.components_.T, index = df_ret.index)\n",
    "rp = rp.add_prefix(\"P\")\n",
    "rp.head()"
   ]
  },
  {
   "cell_type": "code",
   "execution_count": 52,
   "id": "29cd1844-109b-4497-a8fc-68a56804893f",
   "metadata": {},
   "outputs": [
    {
     "name": "stdout",
     "output_type": "stream",
     "text": [
      "(290, 50)\n"
     ]
    }
   ],
   "source": [
    "# Use scaler to fit transform the data\n",
    "scaled_data = StandardScaler().fit_transform(rp)\n",
    "print(scaled_data.shape)"
   ]
  },
  {
   "cell_type": "code",
   "execution_count": 53,
   "id": "88c03bb5-deb2-4bdf-a660-1faa05781938",
   "metadata": {},
   "outputs": [
    {
     "name": "stdout",
     "output_type": "stream",
     "text": [
      "[[-0.38626675 -0.48610771  1.25417665 ...  0.57598041 -0.5806901\n",
      "   0.39697003]\n",
      " [-0.2274297  -0.76165268  2.06970508 ... -0.63019803  0.08118657\n",
      "  -0.08166634]\n",
      " [-0.35587748 -0.33365401  0.06069871 ... -0.0119636  -0.23072535\n",
      "   0.14048615]\n",
      " ...\n",
      " [-0.58595574  0.62056194  0.33098073 ...  4.25638427  2.00452832\n",
      "  -0.09002337]\n",
      " [-0.52773678 -0.90540737 -0.10979774 ...  0.23762814 -0.36239687\n",
      "   0.4838707 ]\n",
      " [ 0.14876302  0.33515753 -0.41416744 ... -0.75690175  0.99902271\n",
      "  -0.45001561]]\n"
     ]
    }
   ],
   "source": [
    "print(scaled_data)"
   ]
  },
  {
   "cell_type": "markdown",
   "id": "e31e61fe-e672-4122-8798-3baba45e9045",
   "metadata": {},
   "source": [
    "Now that I have the scaled data, I will run DBSCAN on this data to identify clusters"
   ]
  },
  {
   "cell_type": "code",
   "execution_count": 54,
   "id": "9bd64729-9233-476c-b40f-4565828c0de3",
   "metadata": {},
   "outputs": [
    {
     "name": "stdout",
     "output_type": "stream",
     "text": [
      "DBSCAN(eps=1.8, min_samples=3, n_jobs=1)\n",
      "Clusters discovered: 8\n"
     ]
    }
   ],
   "source": [
    "dbs = DBSCAN(eps=1.8, min_samples = 3, n_jobs = 1)\n",
    "print(dbs)\n",
    "dbs.fit(scaled_data)\n",
    "labels = dbs.labels_\n",
    "n_clus = len(set(labels)) - (1 if -1 in labels else 0)\n",
    "print(f'Clusters discovered: {n_clus}')"
   ]
  },
  {
   "cell_type": "code",
   "execution_count": 55,
   "id": "fef1de8d-1d04-4fac-b7c1-51a1e31a0c16",
   "metadata": {},
   "outputs": [
    {
     "name": "stdout",
     "output_type": "stream",
     "text": [
      "Clusters formed: 7\n",
      "Pairs to evaluate: 1214\n"
     ]
    }
   ],
   "source": [
    "cs = pd.Series(index = rp.index, data = labels.flatten())\n",
    "cs_all = pd.Series(index = rp.index, data = labels.flatten())\n",
    "cs = cs[cs != 1]\n",
    "\n",
    "c_limit = 100\n",
    "counts = cs.value_counts()\n",
    "tcr = counts[(counts > 1) & (counts <= c_limit)]\n",
    "print(f'Clusters formed:  len(tcr)')\n",
    "print(f'Pairs to evaluate: (tcr*(tcr-1)).sum()')"
   ]
  },
  {
   "cell_type": "code",
   "execution_count": 77,
   "id": "a0e86c18-f3fa-46f1-8bd7-bf5e861ef33d",
   "metadata": {},
   "outputs": [
    {
     "data": {
      "image/png": "[encoded data removed]",
      "text/plain": [
       "<Figure size 1000x500 with 1 Axes>"
      ]
     },
     "metadata": {},
     "output_type": "display_data"
    }
   ],
   "source": [
    "plt.figure(figsize = (10, 5))\n",
    "plt.bar(range(len(cs.value_counts())), cs.value_counts())\n",
    "plt.title('Cluster Counts')\n",
    "plt.xlabel('Cluster')\n",
    "plt.ylabel('Count')\n",
    "plt.show()"
   ]
  },
  {
   "cell_type": "markdown",
   "id": "64525396-74c3-41c8-b2c7-22b6b4dda767",
   "metadata": {},
   "source": [
    "I will pick a cluster and see if it contains any pairs that can be pairs-traded"
   ]
  },
  {
   "cell_type": "code",
   "execution_count": 58,
   "id": "8a4187f4-d8a4-4570-9fc6-d9560fe94bf8",
   "metadata": {},
   "outputs": [
    {
     "name": "stdout",
     "output_type": "stream",
     "text": [
      "['AGZD', 'BND', 'BNDX', 'BSCO', 'BSCP', 'BSCQ', 'BSCR', 'FIXD', 'FTSM', 'GNMA', 'IEF', 'IEI', 'IGIB', 'IGSB', 'ISTB', 'IUSB', 'LMBS', 'MBB', 'SHV', 'SHY', 'SKOR', 'SLQD', 'SUSB', 'SUSC', 'UITB', 'USIG', 'USTB', 'VCIT', 'VCSH', 'VGIT', 'VGSH', 'VMBS', 'VTC', 'VTIP']\n"
     ]
    }
   ],
   "source": [
    "etfs = list(cs[cs==2].index)\n",
    "print(etfs)"
   ]
  },
  {
   "cell_type": "code",
   "execution_count": 61,
   "id": "19b46bca-d21d-405f-802a-7a3feadb9836",
   "metadata": {},
   "outputs": [
    {
     "data": {
      "image/png": "[encoded data removed]",
      "text/plain": [
       "<Figure size 1200x500 with 2 Axes>"
      ]
     },
     "metadata": {},
     "output_type": "display_data"
    }
   ],
   "source": [
    "plot_series('VGSH', 'VMBS')"
   ]
  },
  {
   "cell_type": "markdown",
   "id": "d208fbc6-5346-4880-b508-726aba59aa74",
   "metadata": {},
   "source": [
    "The price movement of the two ETFs show that they can be pairs-traded."
   ]
  },
  {
   "cell_type": "markdown",
   "id": "7bc8ff29-b9ad-4d12-9657-ce5b0b718b4f",
   "metadata": {},
   "source": [
    "#### Future Tasks\n",
    "\n",
    "Lot of tasks can be done in future.  Some of them are listed below:\n",
    "* Use T-SNE to find better pairs\n",
    "* Back test to find possible returns\n",
    "* Extend this strategy to crypto or stocks\n",
    "* Programmatically find best time to enter and exit the pairs-trading\n",
    "* Use BIRCH or Agglomerative clustering to find clusters"
   ]
  },
  {
   "cell_type": "markdown",
   "id": "7b532c4e-2f08-4ac2-81c6-3f7a7e87b42f",
   "metadata": {},
   "source": [
    "#### Conclusion\n",
    "\n",
    "I have used K-Means and DBSCAN to identify ETFs that can be pair traded.  There is more to be done before this can be used for actual trading, including employing T-SNE.  Also we can use the backtesting methods to find the possible profits if we employ this strategy.\n",
    "\n",
    "Generally pairs-trading is assumed to be profitable but it needs clear understanding of the same. \n",
    "\n",
    "##### Disclaimer\n",
    "* Backtested performance results have certain inherent limitations and may not be indicative of future performance.\n",
    "* I am not a finance advisor and this is purely for educational purposes only\n",
    "* yfinance and Yahoo! finance api is not to be used for commercial purposes\n",
    "\n"
   ]
  },
  {
   "cell_type": "markdown",
   "id": "63fb1823-bd07-4ee1-8381-469e77d3f523",
   "metadata": {},
   "source": [
    "#### References\n",
    "<ol>\n",
    "    <li>https://www.investopedia.com/terms/e/etf.asp</li>\n",
    "    <li>https://www.investopedia.com/terms/l/long.asp</li>\n",
    "    <li>https://www.investopedia.com/terms/s/short.asp</li>\n",
    "    <li>https://www.fidelity.com/learning-center/trading-investing/trading/pairs-trading#:~:text=Pairs%20trading%20is%20a%20non,of%20their%20historical%20trading%20range.</li>\n",
    "    <li>https://github.com/ranaroussi/yfinance</li>\n",
    "</ol>"
   ]
  },
  {
   "cell_type": "code",
   "execution_count": null,
   "id": "c1b7a548-ad04-433a-9e88-812651ec3f7b",
   "metadata": {},
   "outputs": [],
   "source": []
  }
 ],
 "metadata": {
  "kernelspec": {
   "display_name": "Python 3 (ipykernel)",
   "language": "python",
   "name": "python3"
  },
  "language_info": {
   "codemirror_mode": {
    "name": "ipython",
    "version": 3
   },
   "file_extension": ".py",
   "mimetype": "text/x-python",
   "name": "python",
   "nbconvert_exporter": "python",
   "pygments_lexer": "ipython3",
   "version": "3.9.6"
  }
 },
 "nbformat": 4,
 "nbformat_minor": 5
}
